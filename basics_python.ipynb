{
 "cells": [
  {
   "cell_type": "markdown",
   "id": "60252f2f",
   "metadata": {},
   "source": [
    "# Задание 1"
   ]
  },
  {
   "cell_type": "code",
   "execution_count": 2,
   "id": "f3b1ff09",
   "metadata": {},
   "outputs": [
    {
     "name": "stdout",
     "output_type": "stream",
     "text": [
      "Фраза 1 длиннее фразы 2\n"
     ]
    }
   ],
   "source": [
    "phrase_1 = 'Насколько проще было бы писать программы, если бы не заказчики'\n",
    "phrase_2 = '640Кб должно хватить для любых задач. Билл Гейтс (по легенде)'\n",
    "\n",
    "if len(phrase_1) > len(phrase_2):\n",
    "    print ('Фраза 1 длиннее фразы 2')\n",
    "else:\n",
    "    print ('Фраза 1 не длиннее фразы 2')"
   ]
  },
  {
   "cell_type": "code",
   "execution_count": 4,
   "id": "78aa115c",
   "metadata": {},
   "outputs": [
    {
     "name": "stdout",
     "output_type": "stream",
     "text": [
      "Фраза 2 длиннее фразы 1\n"
     ]
    }
   ],
   "source": [
    "phrase_1 = '640Кб должно хватить для любых задач. Билл Гейтс (по легенде)'\n",
    "phrase_2 = 'Насколько проще было бы писать программы, если бы не заказчики'\n",
    "\n",
    "if len(phrase_1) > len(phrase_2):\n",
    "    print ('Фраза 1 длиннее фразы 2')\n",
    "elif len(phrase_2) > len(phrase_1):\n",
    "    print ('Фраза 2 длиннее фразы 1')\n",
    "else:\n",
    "    print ('Фразы равной длины')"
   ]
  },
  {
   "cell_type": "code",
   "execution_count": 9,
   "id": "d12379e0",
   "metadata": {},
   "outputs": [
    {
     "name": "stdout",
     "output_type": "stream",
     "text": [
      "Фразы равной длины\n"
     ]
    }
   ],
   "source": [
    "phrase_1 = 'Насколько проще было бы писать программы, если бы не заказчики'\n",
    "phrase_2 = 'Насколько проще было бы писать программы, если бы не заказчики'\n",
    "\n",
    "if len(phrase_1) > len(phrase_2):\n",
    "    print ('Фраза 1 длиннее фразы 2')\n",
    "elif len(phrase_2) > len(phrase_1):\n",
    "    print ('Фраза 2 длиннее фразы 1')\n",
    "else:\n",
    "    print ('Фразы равной длины')"
   ]
  },
  {
   "cell_type": "markdown",
   "id": "736d707e",
   "metadata": {},
   "source": [
    "# Задание 2\n"
   ]
  },
  {
   "cell_type": "code",
   "execution_count": null,
   "id": "f0009676",
   "metadata": {},
   "outputs": [],
   "source": [
    "year = 2020\n",
    "\n",
    "\"\"\"\n",
    "Стандартный год состоит из 365 дней, а високосный из 366 дней.\n",
    "Високосный год кратен 4, но при этом не кратен 100, либо кратен 400. \n",
    "Иными словами, если год делится на 4 без остатка, но делится на 100 только с остатком,\n",
    "то он високосный, иначе — невисокосный, кроме случая, \n",
    "если он делится без остатка на 400 — тогда он всё равно високосный.\n",
    "\"\"\"\n",
    "if year % 4 == 0 and year % 100 != 0 or year % 400 == 0:\n",
    "    print ('Високосный год')\n",
    "else:\n",
    "    print('Обычный год')"
   ]
  },
  {
   "cell_type": "code",
   "execution_count": null,
   "id": "97d0508c",
   "metadata": {},
   "outputs": [],
   "source": [
    "year = 2019\n",
    "\n",
    "\"\"\"\n",
    "Стандартный год состоит из 365 дней, а високосный из 366 дней.\n",
    "Високосный год кратен 4, но при этом не кратен 100, либо кратен 400. \n",
    "Иными словами, если год делится на 4 без остатка, но делится на 100 только с остатком,\n",
    "то он високосный, иначе — невисокосный, кроме случая, \n",
    "если он делится без остатка на 400 — тогда он всё равно високосный.\n",
    "\"\"\"\n",
    "if year % 4 == 0 and year % 100 != 0 or year % 400 == 0:\n",
    "    print ('Високосный год')\n",
    "else:\n",
    "    print('Обычный год')"
   ]
  },
  {
   "cell_type": "code",
   "execution_count": 41,
   "id": "a0a56c25",
   "metadata": {},
   "outputs": [
    {
     "name": "stdout",
     "output_type": "stream",
     "text": [
      "Обычный год\n"
     ]
    }
   ],
   "source": [
    "year = 2019\n",
    "\n",
    "\"\"\"\n",
    "Стандартный год состоит из 365 дней, а високосный из 366 дней.\n",
    "Високосный год кратен 4, но при этом не кратен 100, либо кратен 400. \n",
    "Иными словами, если год делится на 4 без остатка, но делится на 100 только с остатком,\n",
    "то он високосный, иначе — невисокосный, кроме случая, \n",
    "если он делится без остатка на 400 — тогда он всё равно високосный.\n",
    "\"\"\"\n",
    "if year % 4 == 0 and year % 100 != 0 or year % 400 == 0:\n",
    "    print ('Високосный год')\n",
    "else:\n",
    "    print('Обычный год')"
   ]
  },
  {
   "cell_type": "markdown",
   "id": "26489893",
   "metadata": {},
   "source": [
    "# Задание 3"
   ]
  },
  {
   "cell_type": "code",
   "execution_count": 38,
   "id": "1eb857bd",
   "metadata": {},
   "outputs": [
    {
     "name": "stdout",
     "output_type": "stream",
     "text": [
      "Введите день:30\n",
      "Введите Введите месяц:Август\n",
      "Ваш знак зодиака: Дева\n"
     ]
    }
   ],
   "source": [
    "user_day_input = int(input('Введите день:'))\n",
    "user_month_input = str(input('Введите Введите месяц:'))\n",
    "if      ((1 <= user_day_input <= 18 and user_month_input == \"Февраль\"   ) or (20 <= user_day_input <= 31 and user_month_input ==  \"Январь\"    )): print('Ваш знак зодиака: Водолей')\n",
    "elif    ((1 <= user_day_input <= 20 and user_month_input == \"Март\"      ) or (19 <= user_day_input <= 29 and user_month_input ==  \"Февраль\"   )): print('Ваш знак зодиака: Рыбы')\n",
    "elif    ((1 <= user_day_input <= 20 and user_month_input == \"Апрель\"    ) or (21 <= user_day_input <= 31 and user_month_input ==  \"Март\"      )): print('Ваш знак зодиака: Овен')\n",
    "elif    ((1 <= user_day_input <= 20 and user_month_input == \"Май\"       ) or (21 <= user_day_input <= 30 and user_month_input ==  \"Апрель\"    )): print('Ваш знак зодиака: Телец')\n",
    "elif    ((1 <= user_day_input <= 20 and user_month_input == \"Июнь\"      ) or (21 <= user_day_input <= 31 and user_month_input ==  \"Май\"       )): print('Ваш знак зодиака: Близнецы')\n",
    "elif    ((1 <= user_day_input <= 22 and user_month_input == \"Июль\"      ) or (21 <= user_day_input <= 30 and user_month_input ==  \"Июнь\"      )): print('Ваш знак зодиака: Рак')\n",
    "elif    ((1 <= user_day_input <= 22 and user_month_input == \"Август\"    ) or (23 <= user_day_input <= 31 and user_month_input ==  \"Июль\"      )): print('Ваш знак зодиака: Лев')\n",
    "elif    ((1 <= user_day_input <= 23 and user_month_input == \"Сентябрь\"  ) or (23 <= user_day_input <= 31 and user_month_input ==  \"Август\"    )): print('Ваш знак зодиака: Дева')\n",
    "elif    ((1 <= user_day_input <= 23 and user_month_input == \"Октябрь\"   ) or (24 <= user_day_input <= 30 and user_month_input ==  \"Сентябрь\"  )): print('Ваш знак зодиака: Весы')\n",
    "elif    ((1 <= user_day_input <= 21 and user_month_input == \"Ноябрь\"    ) or (24 <= user_day_input <= 31 and user_month_input ==  \"Октябрь\"   )): print('Ваш знак зодиака: Скорпион')\n",
    "elif    ((1 <= user_day_input <= 21 and user_month_input == \"Декабрь\"   ) or (22 <= user_day_input <= 30 and user_month_input ==  \"Ноябрь\"    )): print('Ваш знак зодиака: Стрелец')\n",
    "elif    ((1 <= user_day_input <= 19 and user_month_input == \"Январь\"    ) or (22 <= user_day_input <= 31 and user_month_input ==  \"Декабрь\"   )): print('Ваш знак зодиака: Козерог')\n",
    "else: print('Нет данных')"
   ]
  },
  {
   "cell_type": "markdown",
   "id": "df00fa2a",
   "metadata": {},
   "source": [
    "# Задание 4"
   ]
  },
  {
   "cell_type": "code",
   "execution_count": 44,
   "id": "5455f5e9",
   "metadata": {},
   "outputs": [
    {
     "name": "stdout",
     "output_type": "stream",
     "text": [
      "Упаковка для лыж\n"
     ]
    }
   ],
   "source": [
    "width = 10\n",
    "length = 205\n",
    "height = 5\n",
    "if (width < 15 and length < 15 and length < 15): print('Коробка №1')\n",
    "elif (15 < width < 50 or  15 < length < 50 or 15 < length < 50): print('Коробка №2')\n",
    "elif (length > 200): print('Упаковка для лыж')\n",
    "else: print('Стандартная коробка №3')"
   ]
  },
  {
   "cell_type": "code",
   "execution_count": 58,
   "id": "388877e0",
   "metadata": {},
   "outputs": [
    {
     "name": "stdout",
     "output_type": "stream",
     "text": [
      "Неасчастливый билет\n"
     ]
    }
   ],
   "source": [
    "number = 123456\n",
    "a =str(number)\n",
    "b = list(a)\n",
    "if int(b[0]) + int(b[1]) + int(b[2]) == int(b[3]) + int(b[4]) + int(b[5]): print('Счастливый билет')\n",
    "else: print('Неасчастливый билет')"
   ]
  },
  {
   "cell_type": "code",
   "execution_count": 59,
   "id": "d2c8263b",
   "metadata": {},
   "outputs": [
    {
     "name": "stdout",
     "output_type": "stream",
     "text": [
      "Счастливый билет\n"
     ]
    }
   ],
   "source": [
    "number = 123321\n",
    "a =str(number)\n",
    "b = list(a)\n",
    "if int(b[0]) + int(b[1]) + int(b[2]) == int(b[3]) + int(b[4]) + int(b[5]): print('Счастливый билет')\n",
    "else: print('Неасчастливый билет')"
   ]
  },
  {
   "cell_type": "code",
   "execution_count": null,
   "id": "d4e29341",
   "metadata": {},
   "outputs": [],
   "source": []
  }
 ],
 "metadata": {
  "kernelspec": {
   "display_name": "Python 3",
   "language": "python",
   "name": "python3"
  }
 },
 "nbformat": 4,
 "nbformat_minor": 5
}
