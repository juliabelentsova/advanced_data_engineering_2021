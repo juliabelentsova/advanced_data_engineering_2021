{
 "cells": [
  {
   "cell_type": "markdown",
   "id": "3a57dd94",
   "metadata": {},
   "source": [
    "# Задание 1"
   ]
  },
  {
   "cell_type": "code",
   "execution_count": 25,
   "id": "bf173c36",
   "metadata": {},
   "outputs": [
    {
     "name": "stdout",
     "output_type": "stream",
     "text": [
      "es\n"
     ]
    }
   ],
   "source": [
    "word = 'test'\n",
    "if len(word)%2 == 0:\n",
    "        print((word[(len(word)//2-1):(len(word)//2+1)]))\n",
    "elif len(word)%2 != 0:\n",
    "        print(word[len(word)//2])\n",
    "else:\n",
    "        print ('Ошибка')"
   ]
  },
  {
   "cell_type": "code",
   "execution_count": 26,
   "id": "a9679002",
   "metadata": {},
   "outputs": [
    {
     "name": "stdout",
     "output_type": "stream",
     "text": [
      "t\n"
     ]
    }
   ],
   "source": [
    "word = 'testing'\n",
    "if len(word)%2 == 0:\n",
    "        print((word[(len(word)//2-1):(len(word)//2+1)]))\n",
    "elif len(word)%2 != 0:\n",
    "        print(word[len(word)//2])\n",
    "else:\n",
    "        print ('Ошибка')"
   ]
  },
  {
   "cell_type": "markdown",
   "id": "f5335ce7",
   "metadata": {},
   "source": [
    "# Задание 2"
   ]
  },
  {
   "cell_type": "code",
   "execution_count": 62,
   "id": "081422f9",
   "metadata": {},
   "outputs": [
    {
     "name": "stdout",
     "output_type": "stream",
     "text": [
      "Введите число:1\n",
      "Введите число:4\n",
      "Введите число:6\n",
      "Введите число:0\n",
      "11\n"
     ]
    }
   ],
   "source": [
    "user_input = int(input('Введите число:'))\n",
    "user_sum = 0\n",
    "while user_input != 0:\n",
    "        user_sum += user_input\n",
    "        user_input = int(input('Введите число:'))\n",
    "print(user_sum)"
   ]
  },
  {
   "cell_type": "code",
   "execution_count": 63,
   "id": "ceb1f798",
   "metadata": {},
   "outputs": [
    {
     "name": "stdout",
     "output_type": "stream",
     "text": [
      "Введите число:0\n",
      "0\n"
     ]
    }
   ],
   "source": [
    "user_input = int(input('Введите число:'))\n",
    "user_sum = 0\n",
    "while user_input != 0:\n",
    "        user_sum += user_input\n",
    "        user_input = int(input('Введите число:'))\n",
    "print(user_sum)"
   ]
  },
  {
   "cell_type": "code",
   "execution_count": 139,
   "id": "2d46f430",
   "metadata": {},
   "outputs": [
    {
     "name": "stdout",
     "output_type": "stream",
     "text": [
      "Идеальная пара:\n",
      "Peter и Kate\n",
      "Alex и Liza\n",
      "John и Kira\n",
      "Arthur и Emma\n",
      "Richard и Trisha\n"
     ]
    }
   ],
   "source": [
    "boys = ['Peter', 'Alex', 'John', 'Arthur', 'Richard']\n",
    "girls = ['Kate', 'Liza', 'Kira', 'Emma','Trisha']\n",
    "if len(boys) == len(girls):\n",
    "    print(\"Идеальная пара:\")\n",
    "    sorted(boys)\n",
    "    sorted(girls)\n",
    "    dating = zip(boys, girls)\n",
    "    for company in dating:\n",
    "        print(f\"{company[0]} и {company[1]}\")\n",
    "else:\n",
    "    print(\"Внимание, кто-то может остаться без пары!\")"
   ]
  },
  {
   "cell_type": "code",
   "execution_count": 197,
   "id": "07695820",
   "metadata": {},
   "outputs": [
    {
     "name": "stdout",
     "output_type": "stream",
     "text": [
      "Внимание, кто-то может остаться без пары!\n"
     ]
    }
   ],
   "source": [
    "boys = ['Peter', 'Alex', 'John', 'Arthur', 'Richard', 'Michael']\n",
    "girls = ['Kate', 'Liza', 'Kira', 'Emma','Trisha']\n",
    "if len(boys) == len(girls):\n",
    "    print(\"Идеальная пара:\")\n",
    "    sorted(boys)\n",
    "    sorted(girls)\n",
    "    dating = zip(boys, girls)\n",
    "    for company in dating:\n",
    "        print(f\"{company[0]} и {company[1]}\")\n",
    "else:\n",
    "    print(\"Внимание, кто-то может остаться без пары!\")"
   ]
  },
  {
   "cell_type": "markdown",
   "id": "0db69a31",
   "metadata": {},
   "source": [
    "# Задание 4"
   ]
  },
  {
   "cell_type": "code",
   "execution_count": 15,
   "id": "c7b293ef",
   "metadata": {},
   "outputs": [
    {
     "name": "stdout",
     "output_type": "stream",
     "text": [
      "Thailand  -  23.9 C\n",
      "Germany  -  13.8 C\n",
      "Russia  -  3.7 C\n",
      "Poland  -  12.0 C\n"
     ]
    }
   ],
   "source": [
    "countries_temperature = [\n",
    "['Thailand', [75.2, 77, 78.8, 73.4, 68, 75.2, 77]],\n",
    "['Germany', [57.2, 55.4, 59, 59, 53.6]],\n",
    "['Russia', [35.6, 37.4, 39.2, 41, 42.8, 39.2, 35.6]],\n",
    "['Poland', [50, 50, 53.6, 57.2, 55.4, 55.4]]\n",
    "]\n",
    "for i in countries_temperature:\n",
    "    print(i[0],' - ',round((sum(i[1])/len(i[1])-32)*(5/9),1),'C')"
   ]
  },
  {
   "cell_type": "code",
   "execution_count": null,
   "id": "e02d6c4a",
   "metadata": {},
   "outputs": [],
   "source": []
  }
 ],
 "metadata": {
  "kernelspec": {
   "display_name": "Python 3",
   "language": "python",
   "name": "python3"
  },
  "language_info": {
   "codemirror_mode": {
    "name": "ipython",
    "version": 3
   },
   "file_extension": ".py",
   "mimetype": "text/x-python",
   "name": "python",
   "nbconvert_exporter": "python",
   "pygments_lexer": "ipython3",
   "version": "3.8.8"
  }
 },
 "nbformat": 4,
 "nbformat_minor": 5
}
